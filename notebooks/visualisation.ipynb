{
 "cells": [
  {
   "cell_type": "code",
   "execution_count": null,
   "metadata": {},
   "outputs": [],
   "source": [
    "%load_ext autoreload\n",
    "%autoreload 1  \n",
    "# Automatically reload bioscout package\n",
    "%aimport bioscout_tech_challenge"
   ]
  },
  {
   "cell_type": "code",
   "execution_count": 17,
   "metadata": {},
   "outputs": [],
   "source": [
    "import pandas as pd\n",
    "from bioscout_tech_challenge.utils.file_operations import read_csv_file, read_json_file\n",
    "import plotly.express as px\n",
    "def plot_sensor_data(df, sensor_type, device_id=None, fig=None,**kwargs):\n",
    "    \"\"\"\n",
    "    Plot the sensor data for a given sensor type and device id.\n",
    "    \"\"\"\n",
    "    df = df[df['sensor_type']==sensor_type]\n",
    "    yaxis_str = sensor_type + \" (\" + df.sensor_units.unique()[0] + \")\"   \n",
    "    if device_id is not None:\n",
    "        df = df[df['device_id']== device_id]\n",
    "    if fig is None:\n",
    "        fig = px.scatter(df,\n",
    "           x=\"timestamp\",\n",
    "           y=\"sensor_value\",\n",
    "           color=df['device_id'].astype(str) + ' - ' + df['sensor_device'],**kwargs\n",
    "            )\n",
    "    else:\n",
    "        fig = fig.add_scatter(df,\n",
    "           x=\"timestamp\",\n",
    "           y=\"sensor_value\",\n",
    "           color=df['device_id'].astype(str) + ' - ' + df['sensor_device'],**kwargs\n",
    "            )\n",
    "    fig.update_layout(\n",
    "        legend_title_text='Device',\n",
    "        xaxis_title=\"Time (s)\",\n",
    "        yaxis_title=yaxis_str.capitalize(), \n",
    "    )\n",
    "    return fig\n"
   ]
  },
  {
   "cell_type": "markdown",
   "metadata": {},
   "source": [
    "# 2. Visualise Weather Data & Provide Insights\n",
    "Please ensure the either the exploration.ipynb has been run or the cli commands given in the README.md have been executed before running this notebook."
   ]
  },
  {
   "cell_type": "code",
   "execution_count": null,
   "metadata": {},
   "outputs": [],
   "source": [
    "# hardcode our merged and flattened weather data\n",
    "try:\n",
    "    df\n",
    "except NameError:\n",
    "    df = read_csv_file(r\"../data/tables/weather_data/output/exploration_data_output.csv\")\n",
    "print(df.head())\n",
    "print(df.info())\n",
    "print(df.shape)\n"
   ]
  },
  {
   "cell_type": "markdown",
   "metadata": {},
   "source": [
    "## Mapping Device Locations\n",
    "Lets have a look at the location of the devices to give us a sense of the data."
   ]
  },
  {
   "cell_type": "code",
   "execution_count": null,
   "metadata": {},
   "outputs": [],
   "source": [
    "# plot latitude and longitude on interactive map      \n",
    "\n",
    "# Get unique device locations\n",
    "unique_locations = df[['device_id', 'latitude', 'longitude']].drop_duplicates()\n",
    "\n",
    "# Create an interactive map using plotly express\n",
    "fig = px.scatter_mapbox(unique_locations, \n",
    "                        lat='latitude',\n",
    "                        lon='longitude',\n",
    "                        hover_data=['device_id'],\n",
    "                        color='latitude',\n",
    "                        zoom=3,\n",
    "                        title='Device Locations')\n",
    "\n",
    "# Update the map style and layout\n",
    "fig.update_layout(\n",
    "    mapbox_style='open-street-map',\n",
    "    margin={\"r\":0,\"t\":30,\"l\":0,\"b\":0}\n",
    ")\n",
    "\n",
    "fig.show()\n",
    "\n"
   ]
  },
  {
   "cell_type": "markdown",
   "metadata": {},
   "source": [
    "## Visualising Sensor Data\n",
    "The above gives us a general indication of the device locations. Lets broadly look at the different sensors and their values over time."
   ]
  },
  {
   "cell_type": "code",
   "execution_count": null,
   "metadata": {},
   "outputs": [],
   "source": [
    "# 2.1 Visualise Weather Data\n",
    "# plot the temperature over time\n",
    "# Create a scatter plot showing individual lines for each device-sensor combination\n",
    "sensors = df['sensor_type'].unique()\n",
    "print(\"Sensors: \", sensors)\n",
    "idx = 3\n",
    "sensor_df = df[df['sensor_type'] == sensors[idx]]\n",
    "\n",
    "\n",
    "fig = plot_sensor_data(sensor_df, sensors[idx])\n",
    "fig.show()\n",
    "\n"
   ]
  },
  {
   "cell_type": "markdown",
   "metadata": {},
   "source": [
    "The data appears messy but we can see that some devices are malfunctioning. This is especially true for the sensor at device location 255.\n",
    "Some unique patterns in the device suggests that it was the first prototype as the data is sporadic and not continuous containing outliers in most of the sensors. It is also noted that the device is located off the coast of Sydney. This suggest that the device is a prototype that was tested at the office in Sydney with issues with the GPS. It is also noted that the sensor data is time stamped before the deployment of the rest of the devices. Thus moving forward we will remove this device for the analysis.\n",
    "\n",
    "Temperatures in the $100\\degree\\text{C}$ are not possible (unless global warming gets out of control). Lets remove this device and change our y-axis to something more sensible. Since we are in NSW and below is October - December, we can assume that the temperature will not exceed $50\\degree\\text{C}$.\n"
   ]
  },
  {
   "cell_type": "markdown",
   "metadata": {},
   "source": [
    "### Temperature\n",
    "Looking more specifically we produce the following plot of the temperature data for the rest of the devices."
   ]
  },
  {
   "cell_type": "code",
   "execution_count": null,
   "metadata": {},
   "outputs": [],
   "source": [
    "device_id = 255\n",
    "temperature_df = df[df['device_id']!= device_id]\n",
    "\n",
    "fig = plot_sensor_data(temperature_df, 'temperature')\n",
    "fig.update_layout(yaxis_range=[0, 50])\n",
    "fig.show()\n",
    "\n"
   ]
  },
  {
   "cell_type": "markdown",
   "metadata": {},
   "source": [
    "Whilst this is still quite busy we can clearly see the patterns of temperature fulcuations of each day. This is a good start as it shows some reasonability in the data. Turning off the traces and focusing on each device site we can see that there is a fixed offset in the temperature between the BME680 and the SHT30 sensor. This would require some further engineering analysis combined with some source of truth to calibrate the output data. It is interesting to note that the offset is more pronouced on the highside during the peak in temperature in the day. This could be due to the position of the sensors on the device.\n",
    "![Device 265 Temperature Plot](./plots/265-temp.png)\n",
    "\n",
    "\n"
   ]
  },
  {
   "cell_type": "markdown",
   "metadata": {},
   "source": [
    "Another interesting pattern is that devices with device_id > 280 each had one or more calibration events between the 5th and 9th of November. These sensors all started to capture continuous data at varying dates onwards and were deployed to NSW, Victoria and South Australia. These early events can therefore be filtered from further analysis based on the assumption that engineers were testing the sensors and calibrating them before deployment. Therefore moving forward these data points will be filtered from the deeper analysis. \n",
    "\n",
    "![Calibration Event](./plots/calibration.png)\n",
    "\n"
   ]
  },
  {
   "cell_type": "markdown",
   "metadata": {},
   "source": [
    "To do this we develop a tool in the bioscout package to remove known periods of testing data.   "
   ]
  },
  {
   "cell_type": "code",
   "execution_count": 22,
   "metadata": {},
   "outputs": [],
   "source": [
    "from bioscout_tech_challenge.utils.weather import apply_single_filter\n",
    "\n",
    "filter_dict = {'device_id': 255}\n",
    "rows_to_remove = apply_single_filter(df, filter_dict)\n",
    "df = df.drop(rows_to_remove)\n",
    "\n",
    "filter_prototype = {'device_id': {'min': 280},\n",
    "                    'timestamp': {'max': pd.to_datetime('2024-11-09')}}\n",
    "\n",
    "\n",
    "rows_to_remove = apply_single_filter(df, filter_prototype)\n",
    "filtered_df = df.drop(rows_to_remove)\n"
   ]
  },
  {
   "cell_type": "code",
   "execution_count": null,
   "metadata": {},
   "outputs": [],
   "source": [
    "fig = plot_sensor_data(filtered_df, 'temperature')\n",
    "\n",
    "fig.show()"
   ]
  },
  {
   "cell_type": "markdown",
   "metadata": {},
   "source": [
    "Thus we removed the calibration events and the prototype data. We can now move forward with the analysis. One final thing to note about the temperature data is that the initial some of the initial readings from the SHT30 device in the first group rolled out device_id <=279 the first data point read a value of $130\\degree\\text{C}$ which is not possible. This seems like something to do with the initialisation process that was ironed out in the second group of device the worst case however was that of device_id 278 which was incorrect for the first ~1 day of data gathering.\n",
    "\n",
    "![SHT30 Temperature](./plots/278-temp.png)\n"
   ]
  },
  {
   "cell_type": "markdown",
   "metadata": {},
   "source": [
    "We can choose to filter this data out or keep it in for further analysis. However, im working with the assumption that this bug was ironed out in the second group of device."
   ]
  },
  {
   "cell_type": "code",
   "execution_count": null,
   "metadata": {},
   "outputs": [],
   "source": [
    "filter_prototype = {'sensor_device': \"SHT30\",\n",
    "                    'sensor_type': \"temperature\",\n",
    "                    'sensor_value': 130}\n",
    "\n",
    "\n",
    "rows_to_remove = apply_single_filter(filtered_df, filter_prototype)\n",
    "filtered_df = filtered_df.drop(rows_to_remove)\n",
    "fig = plot_sensor_data(filtered_df, 'temperature')\n",
    "\n",
    "fig.show()"
   ]
  },
  {
   "cell_type": "markdown",
   "metadata": {},
   "source": [
    "### Humidity\n",
    "Now that we have removed the calibration events and the prototype data based on the analysis of the temperature data lets have a look at the humidity data. The first thing we notice is that there is very different trends of data between the two sensors; \"BME680\" and \"SHT30\". The BME680 sensor seems to show a much more stable trend of humidity over time. \n",
    "\n",
    "![Humidity](./plots/289_290-humid.png)\n",
    "\n",
    "The SHT30 sensor however shows a much more fluctuating trend of humidity over time. This is likely due to the fact that the SHT30 sensor is a relative humidity sensor and is affected by the temperature of the air. The BME680 sensor is an absolute humidity sensor and is not affected by the temperature of the air. Lets compare the temperature and humidity data for the same device."
   ]
  },
  {
   "cell_type": "code",
   "execution_count": null,
   "metadata": {},
   "outputs": [],
   "source": [
    "# Create the initial figure with humidity data\n",
    "device_ids = [289]\n",
    "fig1 = plot_sensor_data(filtered_df[filtered_df['device_id'].isin(device_ids)], 'humidity')\n",
    "\n",
    "# Create temperature scatter plot\n",
    "temp_data = filtered_df[filtered_df['device_id'].isin(device_ids)]\n",
    "fig2 = plot_sensor_data(filtered_df[filtered_df['device_id'].isin(device_ids)], 'temperature',)\n",
    "fig2.update_traces(\n",
    "    marker=dict(\n",
    "        size=5,          # Size of markers\n",
    "        symbol='diamond', # Marker symbol: 'circle', 'square', 'diamond', 'cross', 'x', etc.\n",
    "        opacity=0.2,     # Marker opacity\n",
    "        line=dict(\n",
    "            width=0.3,\n",
    "            color='grey'\n",
    "        )\n",
    "    )\n",
    ")\n",
    "\n",
    "# Add the temperature traces to the humidity figure\n",
    "for trace in fig2.data:\n",
    "    trace.yaxis = 'y2'\n",
    "    fig1.add_trace(trace)\n",
    "\n",
    "# Update layout for secondary y-axis\n",
    "fig1.update_layout(\n",
    "    yaxis2=dict(\n",
    "        title='Temperature',\n",
    "        overlaying='y',\n",
    "        side='right'\n",
    "    )\n",
    ")\n",
    "\n",
    "fig1.show()"
   ]
  },
  {
   "cell_type": "markdown",
   "metadata": {},
   "source": [
    "As we can see the humidity data from the SHT30 follows the inverse semi-sinusoidal pattern of the temperature data which is to be expected. "
   ]
  },
  {
   "cell_type": "markdown",
   "metadata": {},
   "source": [
    "### Rainfall\n",
    "It would be interesting to compare the rainfall data to the absolute humidity data from the BME680 sensor. Lets have a look at one of the longer term devices to see if we can see any interesting patterns."
   ]
  },
  {
   "cell_type": "code",
   "execution_count": null,
   "metadata": {},
   "outputs": [],
   "source": [
    "device_id = 262\n",
    "sensor_device = 'BME680'\n",
    "\n",
    "humidity_filter = apply_single_filter(filtered_df, {'sensor_device': sensor_device,'device_id':device_id})\n",
    "fig1 = plot_sensor_data(filtered_df[filtered_df['device_id']==device_id], 'rainfall')\n",
    "\n",
    "fig2 = plot_sensor_data(filtered_df.loc[humidity_filter], 'humidity')\n",
    "\n",
    "fig2.update_traces(\n",
    "    marker=dict(\n",
    "        size=5,          # Size of markers\n",
    "        symbol='diamond', # Marker symbol: 'circle', 'square', 'diamond', 'cross', 'x', etc.\n",
    "        opacity=0.2,     # Marker opacity\n",
    "        line=dict(\n",
    "            width=0.3,\n",
    "            color='grey'\n",
    "        )\n",
    "    )\n",
    ")\n",
    "    # Add the temperature traces to the humidity figure\n",
    "for trace in fig2.data:\n",
    "    trace.yaxis = 'y2'\n",
    "    fig1.add_trace(trace)\n",
    "\n",
    "# Update layout for secondary y-axis\n",
    "fig1.update_layout(\n",
    "    yaxis2=dict(\n",
    "        title='humidity',\n",
    "        overlaying='y',\n",
    "        side='right'\n",
    "    )\n",
    ")\n",
    "\n",
    "fig1.show()\n",
    "\n"
   ]
  },
  {
   "cell_type": "markdown",
   "metadata": {},
   "source": [
    "There is no obvious simple relationship between the rainfall and the humidity data. The rainfall detection sensor are a simple measurement of the rain in the last 5 minutes and thus postprocessing of this data is required to develop deeper insights. There was a large spike in rainfall on the 20th-21st of November on the Optical Rainfall Gauge of device_id 290. Looking at BOMs hhistorical data no rain was recorded in Melbourne on this date. This suggests that there was an issue with the device where it recorded its maximum value of 200mm. This seems to have been corrected in the following days as the device correctly detected significant rainfall on the 24th of November which was also recorded by BOM.\n",
    "\n",
    "![Rainfall in Melbourne](./plots/290-rainfall.png)"
   ]
  },
  {
   "cell_type": "markdown",
   "metadata": {},
   "source": [
    "### Pressure\n",
    "Lets have a look at the pressure data for the devices."
   ]
  },
  {
   "cell_type": "code",
   "execution_count": null,
   "metadata": {},
   "outputs": [],
   "source": [
    "fig = plot_sensor_data(filtered_df, 'pressure')\n",
    "fig.show()\n",
    "\n",
    "\n"
   ]
  },
  {
   "cell_type": "markdown",
   "metadata": {},
   "source": [
    "Since the pressure data is consisent and within viable ranges we can assume that the pressure data is correct. To extract any more insitghtful metrics we would need to process the data with knowledge of the device location and the elevation."
   ]
  },
  {
   "cell_type": "markdown",
   "metadata": {},
   "source": [
    "### VOC\n",
    "Loking at the VOC data we can see that the VOC sensor is not working correctly. The sensor is reading a value of 0.0 for the entire duration of the data. This is likely due to the sensor being incorrectly calibrated."
   ]
  },
  {
   "cell_type": "code",
   "execution_count": null,
   "metadata": {},
   "outputs": [],
   "source": [
    "fig = plot_sensor_data(filtered_df, 'voc')\n",
    "fig.show()\n",
    "\n"
   ]
  },
  {
   "cell_type": "markdown",
   "metadata": {},
   "source": [
    "It is interesting to note that the VOC sensor is fulctuating with what appears the time of day. Further analysis into how the BME680 VOC sensor measures the total volatile organic compounds would be required to understand this pattern. Below is a plot of the VOC data with temperature from the same device and sensor. Showing that the VOC sensor is inversely effected by the temperature and therefore readings will likely need calibration via sensor fusion with the temperature data.\n"
   ]
  },
  {
   "cell_type": "code",
   "execution_count": null,
   "metadata": {},
   "outputs": [],
   "source": [
    "device_id = 262\n",
    "sensor_device = 'BME680'\n",
    "voc_filter = apply_single_filter(filtered_df, {'sensor_device': sensor_device,'device_id':device_id})\n",
    "fig1 = plot_sensor_data(filtered_df.loc[voc_filter], 'voc')\n",
    "fig1.update_traces(name='VOC')\n",
    "fig2 = plot_sensor_data(filtered_df.loc[voc_filter], 'temperature')\n",
    "fig2.update_traces(\n",
    "    marker=dict(\n",
    "        size=5,          # Size of markers\n",
    "        symbol='diamond', # Marker symbol: 'circle', 'square', 'diamond', 'cross', 'x', etc.\n",
    "        opacity=0.5,     # Marker opacity\n",
    "\n",
    "        color='red'\n",
    "    ),\n",
    "    name = 'temperature'\n",
    ")\n",
    "for trace in fig2.data:\n",
    "    trace.yaxis = 'y2'\n",
    "    fig1.add_trace(trace)\n",
    "fig1.update_layout(\n",
    "    yaxis2=dict(\n",
    "        title='temperature',\n",
    "        overlaying='y',\n",
    "        side='right'\n",
    "    )\n",
    ")\n",
    "fig1.update_layout(title=f'VOC vs Temperature for device_id {device_id} {sensor_device}')\n",
    "fig1.show()\n"
   ]
  },
  {
   "cell_type": "markdown",
   "metadata": {},
   "source": [
    "## Conclusions and Recommendations\n",
    "\n",
    "From analysis of the sensors in the flattened data set we were able to draw some conclusions about the data and the sensors. Specifically we were able to identify the following:  \n",
    "\n",
    "- Device 255 was a prototype device that was tested in the office and deployed to the field with issues. The data is not reliable and should be removed from the data set.\n",
    "- Devices > 280 had one or more calibration events between the 5th and 9th of November. These sensors all started to capture continuous data at varying dates onwards and were deployed to NSW, Victoria and South Australia. These early events can therefore be filtered from further analysis based on the assumption that engineers were testing the sensors and calibrating them before deployment. Therefore moving forward these data points will be filtered from the deeper analysis.\n",
    "- The SHT30 sensor is a relative humidity sensor and is affected by the temperature of the air. The BME680 sensor is an absolute humidity sensor and is not affected by the temperature of the air.\n",
    "- The VOC sensor is affected by the temperature of the air. Therefore readings will likely need calibration via sensor fusion with the temperature data.\n",
    "\n",
    "Recommendations for further analysis:\n",
    "- Confirm  above findings with engineering team and confirm the calibration events and prototype data. Further develop filtering tools for use by the engineering team and company broadly so that known issues can be filtered out of the data set.\n",
    "- Investigate the VOC sensor data and develop a calibration tool for the VOC sensor data.\n",
    "- Determine the best way to process the windspeed and direction data to extract meaningful metrics. Plotly does not support plotting arrow vectors on scatter maps so we will need to develop a custom solution for this.\n",
    "- Investigate the rainfall detection sensor data and develop a postprocessing tool to extract meaningful metrics.\n",
    "- Run a sensor analysis tool with some key metrics identified by the engineering team including operational limits. This could include mean, median, standard deviation, min, max, quantiles, etc over different time periods.\n",
    "- Calculate hourly and daily averages from the data and create a comparison with known weather data from BOM.\n",
    "\n"
   ]
  },
  {
   "cell_type": "markdown",
   "metadata": {},
   "source": [
    "## CLI Development\n",
    "The new filter function has been added to the CLI a filter json file applying the removal and tagging of data from the above analsis is shown below and is saved in `src/bioscout_tech_challenge/filter_prototype.json`\n",
    "\n",
    "\n",
    "```json\n",
    "{\n",
    "  \"remove_filters\": [\n",
    "    {\n",
    "      \"name\": \"remove_prototype_devices\",\n",
    "      \"description\": \"Remove sensor readings from prototype devices\",\n",
    "      \"filters\": [\n",
    "        {\n",
    "          \"device_id\": 255\n",
    "        }\n",
    "      ]\n",
    "    },\n",
    "    {\n",
    "      \"name\": \"remove_calibration_data\",\n",
    "      \"description\": \"Remove calibration data from second group of devices calibrated between 2024-11-05 and 2024-11-08\",\n",
    "      \"filters\": [\n",
    "        {\n",
    "          \"device_id\": {\"min\": 280, \"max\": 291},\n",
    "          \"timestamp\": {\"min\": \"2024-11-05\", \"max\": \"2024-11-08\"}\n",
    "        }\n",
    "      ]\n",
    "    }\n",
    "  ],\n",
    "  \"tag_filters\": [\n",
    "    {\n",
    "      \"name\": \"optical_device_malfunction\",\n",
    "      \"description\": \"Tag optical devices that have malfunctioned\",\n",
    "      \"tag\": \"OpticalRainGauge_malfunction\",\n",
    "      \"filters\": [\n",
    "        {\n",
    "          \"device_id\": 290,\n",
    "          \"timestamp\": {\"min\": \"2024-11-20\", \"max\": \"2024-11-23\"},\n",
    "          \"sensor_type\": \"rainfall\",\n",
    "          \"sensor_device\": \"OpticalRainGauge\"\n",
    "        }\n",
    "      ]\n",
    "    },\n",
    "    {\n",
    "      \"name\": \"device_group_a\",\n",
    "      \"description\": \"Tag specific device group\",\n",
    "      \"tag\": \"group_a\",\n",
    "      \"filters\": [\n",
    "        {\n",
    "          \"device_id\": {\"min\": 280, \"max\": 290}\n",
    "        }\n",
    "      ]\n",
    "    }\n",
    "  ]\n",
    "}\n",
    "\n",
    "Running it is as follows:"
   ]
  },
  {
   "cell_type": "code",
   "execution_count": null,
   "metadata": {},
   "outputs": [],
   "source": [
    "! bioscout-tech-challenge weather filter --help\n"
   ]
  }
 ],
 "metadata": {
  "kernelspec": {
   "display_name": "Python 3",
   "language": "python",
   "name": "python3"
  },
  "language_info": {
   "codemirror_mode": {
    "name": "ipython",
    "version": 3
   },
   "file_extension": ".py",
   "mimetype": "text/x-python",
   "name": "python",
   "nbconvert_exporter": "python",
   "pygments_lexer": "ipython3",
   "version": "3.13.1"
  }
 },
 "nbformat": 4,
 "nbformat_minor": 2
}
